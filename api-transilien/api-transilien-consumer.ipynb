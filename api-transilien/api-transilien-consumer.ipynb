{
 "cells": [
  {
   "cell_type": "markdown",
   "metadata": {},
   "source": [
    "# SNCF - OPEN DATA - API TRANSILIEN - \"PROCHAINS DEPARTS\""
   ]
  },
  {
   "cell_type": "code",
   "execution_count": null,
   "metadata": {},
   "outputs": [],
   "source": [
    "import os\n",
    "import json\n",
    "from pyspark.sql import SparkSession\n",
    "from pyspark.sql.types import *\n",
    "from pyspark.sql.functions import *\n",
    "from pyspark.sql.window import Window"
   ]
  },
  {
   "cell_type": "code",
   "execution_count": null,
   "metadata": {},
   "outputs": [],
   "source": [
    "log4j = sc._jvm.org.apache.log4j\n",
    "log4j.LogManager.getRootLogger().setLevel(log4j.Level.ERROR)"
   ]
  },
  {
   "cell_type": "code",
   "execution_count": null,
   "metadata": {},
   "outputs": [],
   "source": [
    "spark4kafka = SparkSession.builder.appName(\"MS-SIO-HADOOP-PROJECT-KAFKA-CONSUMER\").getOrCreate()"
   ]
  },
  {
   "cell_type": "code",
   "execution_count": null,
   "metadata": {},
   "outputs": [],
   "source": [
    "spark4kafka.conf.set('spark.sql.shuffle.partitions', 5)"
   ]
  },
  {
   "cell_type": "code",
   "execution_count": null,
   "metadata": {},
   "outputs": [],
   "source": [
    "topic = \"transilien-02\""
   ]
  },
  {
   "cell_type": "code",
   "execution_count": null,
   "metadata": {},
   "outputs": [],
   "source": [
    "df = spark4kafka \\\n",
    "    .readStream \\\n",
    "    .format(\"kafka\") \\\n",
    "    .option(\"kafka.bootstrap.servers\", \"sandbox-hdp.hortonworks.com:6667\") \\\n",
    "    .option(\"subscribe\", topic) \\\n",
    "    .option(\"startingOffsets\", \"earliest\") \\\n",
    "    .load()"
   ]
  },
  {
   "cell_type": "code",
   "execution_count": null,
   "metadata": {},
   "outputs": [],
   "source": [
    "df.printSchema()"
   ]
  },
  {
   "cell_type": "code",
   "execution_count": null,
   "metadata": {},
   "outputs": [],
   "source": [
    "schema = StructType(\n",
    "    [\n",
    "        StructField(\"station\", IntegerType(), True),\n",
    "        StructField(\"timestamp\", TimestampType(), True),\n",
    "        StructField(\"train\", StringType(), True)\n",
    "    ]\n",
    ")"
   ]
  },
  {
   "cell_type": "code",
   "execution_count": null,
   "metadata": {},
   "outputs": [],
   "source": [
    "json_options = {\"timestampFormat\": \"yyyy-MM-dd'T'HH:mm:ss.sss'Z'\"}"
   ]
  },
  {
   "cell_type": "code",
   "execution_count": null,
   "metadata": {},
   "outputs": [],
   "source": [
    "df0 = df \\\n",
    "    .select(from_json(col(\"value\").cast(\"string\"), schema, json_options).alias(\"departure\")) \\\n",
    "    .select(\"departure.*\") \\\n",
    "    .select('station', 'train', 'timestamp') \\\n",
    "    .withWatermark('timestamp', '1 minutes') \\\n",
    "    .dropDuplicates(['train', 'timestamp']) \\\n",
    "    .groupBy('station', window('timestamp', '60 minutes', '2 minutes')) \\\n",
    "    .agg(count('train').alias('nt'), format_number((60. / count('train')), 2).cast(\"double\").alias('awt')) \\\n",
    "    .withColumn('oma', unix_timestamp(current_timestamp()) - 3720) \\\n",
    "    .withColumn('now', unix_timestamp(current_timestamp()) - 60) \\\n",
    "    .withColumn('wstart', unix_timestamp('window.start')) \\\n",
    "    .withColumn('wend', unix_timestamp('window.end')) \\\n",
    "    .where((col('oma') <= col('wstart')) & (col('wend') <= col('now'))) \\"
   ]
  },
  {
   "cell_type": "code",
   "execution_count": null,
   "metadata": {},
   "outputs": [],
   "source": [
    "df0.printSchema()"
   ]
  },
  {
   "cell_type": "code",
   "execution_count": null,
   "metadata": {},
   "outputs": [],
   "source": [
    "spark4hive = SparkSession \\\n",
    "    .builder \\\n",
    "    .master(\"yarn\") \\\n",
    "    .appName(\"MS-SIO-HADOOP-PROJECT-SPARK-SQL\") \\\n",
    "    .config(\"spark.sql.warehouse.dir\", \"hdfs://sandbox-hdp.hortonworks.com:8020/api-transilien\") \\\n",
    "    .config(\"hive.metastore.uris\", \"thrift://sandbox-hdp.hortonworks.com:9083\") \\\n",
    "    .enableHiveSupport() \\\n",
    "    .getOrCreate()"
   ]
  },
  {
   "cell_type": "code",
   "execution_count": null,
   "metadata": {},
   "outputs": [],
   "source": [
    "db_location = \"hdfs://sandbox-hdp.hortonworks.com:8020/api-transilien\""
   ]
  },
  {
   "cell_type": "code",
   "execution_count": null,
   "metadata": {},
   "outputs": [],
   "source": [
    "spark4hive.sql(f'create database if not exists transilien location \"{db_location}\"')"
   ]
  },
  {
   "cell_type": "code",
   "execution_count": null,
   "metadata": {},
   "outputs": [],
   "source": [
    "spark4hive.sql('use transilien')"
   ]
  },
  {
   "cell_type": "code",
   "execution_count": null,
   "metadata": {},
   "outputs": [],
   "source": [
    "import time"
   ]
  },
  {
   "cell_type": "code",
   "execution_count": null,
   "metadata": {},
   "outputs": [],
   "source": [
    "def for_each_micro_batch(df, epoch_id):\n",
    "    try:\n",
    "        #start_time = time.time()\n",
    "        #df.printSchema()\n",
    "        spark4hive = df\n",
    "        #spark4hive.printSchema()\n",
    "        spark4hive.write.mode('overwrite').saveAsTable(\"averageWaitingTime\")\n",
    "        #elapsed_time = round(time.time() - start_time, 2)\n",
    "        print(f\"updated hive table #{epoch_id}\")\n",
    "    except Exception as e:\n",
    "        print(f\"failed to update hive table with batch #{epoch_id}\")\n",
    "        print(e)"
   ]
  },
  {
   "cell_type": "code",
   "execution_count": null,
   "metadata": {},
   "outputs": [],
   "source": [
    "q0 = df0 \\\n",
    "    .select('station', 'window', 'nt', 'awt') \\\n",
    "    .orderBy('station') \\\n",
    "    .writeStream \\\n",
    "    .trigger(processingTime='1 minutes') \\\n",
    "    .outputMode('complete') \\\n",
    "    .format('console') \\\n",
    "    .option('truncate', False) \\\n",
    "    .start()"
   ]
  },
  {
   "cell_type": "code",
   "execution_count": null,
   "metadata": {},
   "outputs": [
    {
     "name": "stdout",
     "output_type": "stream",
     "text": [
      "updated hive table #0\n",
      "updated hive table #1\n",
      "updated hive table #2\n",
      "updated hive table #3\n",
      "updated hive table #4\n",
      "updated hive table #5\n",
      "updated hive table #6\n",
      "updated hive table #7\n",
      "updated hive table #8\n",
      "updated hive table #9\n",
      "updated hive table #10\n",
      "updated hive table #11\n",
      "updated hive table #12\n"
     ]
    }
   ],
   "source": [
    "q1 = df0 \\\n",
    "    .select('station', 'awt') \\\n",
    "    .orderBy('station') \\\n",
    "    .writeStream \\\n",
    "    .trigger(processingTime='1 minutes') \\\n",
    "    .foreachBatch(for_each_micro_batch) \\\n",
    "    .outputMode('complete') \\\n",
    "    .start()"
   ]
  },
  {
   "cell_type": "code",
   "execution_count": null,
   "metadata": {},
   "outputs": [],
   "source": [
    "spark4kafka.streams.active"
   ]
  },
  {
   "cell_type": "code",
   "execution_count": null,
   "metadata": {},
   "outputs": [],
   "source": [
    "q0.stop()\n",
    "q1.stop()"
   ]
  },
  {
   "cell_type": "raw",
   "metadata": {},
   "source": [
    "q0.awaitTermination()\n",
    "q1.awaitTermination()"
   ]
  },
  {
   "cell_type": "code",
   "execution_count": null,
   "metadata": {},
   "outputs": [],
   "source": [
    "spark4kafka.stop()\n",
    "spark4hive.stop()"
   ]
  },
  {
   "cell_type": "code",
   "execution_count": null,
   "metadata": {},
   "outputs": [],
   "source": []
  }
 ],
 "metadata": {
  "kernelspec": {
   "display_name": "Python 3",
   "language": "python",
   "name": "python3"
  },
  "language_info": {
   "codemirror_mode": {
    "name": "ipython",
    "version": 3
   },
   "file_extension": ".py",
   "mimetype": "text/x-python",
   "name": "python",
   "nbconvert_exporter": "python",
   "pygments_lexer": "ipython3",
   "version": "3.7.1"
  }
 },
 "nbformat": 4,
 "nbformat_minor": 2
}
