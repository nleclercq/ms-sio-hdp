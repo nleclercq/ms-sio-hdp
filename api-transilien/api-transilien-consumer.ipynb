{
 "cells": [
  {
   "cell_type": "markdown",
   "metadata": {},
   "source": [
    "# SNCF - OPEN DATA - API TRANSILIEN - \"PROCHAINS DEPARTS\""
   ]
  },
  {
   "cell_type": "code",
   "execution_count": 4,
   "metadata": {},
   "outputs": [],
   "source": [
    "import os\n",
    "import json\n",
    "from pyspark.sql import SparkSession\n",
    "from pyspark.sql.types import *\n",
    "from pyspark.sql.functions import *\n",
    "from pyspark.sql.window import Window"
   ]
  },
  {
   "cell_type": "code",
   "execution_count": 41,
   "metadata": {},
   "outputs": [],
   "source": [
    "log4j = sc._jvm.org.apache.log4j\n",
    "log4j.LogManager.getRootLogger().setLevel(log4j.Level.ERROR)"
   ]
  },
  {
   "cell_type": "code",
   "execution_count": 5,
   "metadata": {},
   "outputs": [],
   "source": [
    "spark = SparkSession.builder.appName(\"MS-SIO-HADOOP-PROJECT-KAFKA-CONSUMER\").getOrCreate()"
   ]
  },
  {
   "cell_type": "code",
   "execution_count": 6,
   "metadata": {},
   "outputs": [],
   "source": [
    "spark.conf.set('spark.sql.shuffle.partitions', 5)"
   ]
  },
  {
   "cell_type": "code",
   "execution_count": 7,
   "metadata": {},
   "outputs": [],
   "source": [
    "topic = \"transilien-02\""
   ]
  },
  {
   "cell_type": "code",
   "execution_count": 8,
   "metadata": {},
   "outputs": [],
   "source": [
    "df = spark \\\n",
    "    .readStream \\\n",
    "    .format(\"kafka\") \\\n",
    "    .option(\"kafka.bootstrap.servers\", \"sandbox-hdp.hortonworks.com:6667\") \\\n",
    "    .option(\"subscribe\", topic) \\\n",
    "    .option(\"startingOffsets\", \"earliest\") \\\n",
    "    .option(\"\", \"\") \\\n",
    "    .load()"
   ]
  },
  {
   "cell_type": "code",
   "execution_count": 9,
   "metadata": {},
   "outputs": [
    {
     "name": "stdout",
     "output_type": "stream",
     "text": [
      "root\n",
      " |-- key: binary (nullable = true)\n",
      " |-- value: binary (nullable = true)\n",
      " |-- topic: string (nullable = true)\n",
      " |-- partition: integer (nullable = true)\n",
      " |-- offset: long (nullable = true)\n",
      " |-- timestamp: timestamp (nullable = true)\n",
      " |-- timestampType: integer (nullable = true)\n",
      "\n"
     ]
    }
   ],
   "source": [
    "df.printSchema()"
   ]
  },
  {
   "cell_type": "code",
   "execution_count": 10,
   "metadata": {},
   "outputs": [],
   "source": [
    "schema = StructType(\n",
    "    [\n",
    "        StructField(\"station\", IntegerType(), True),\n",
    "        StructField(\"timestamp\", TimestampType(), True),\n",
    "        StructField(\"train\", StringType(), True)\n",
    "    ]\n",
    ")"
   ]
  },
  {
   "cell_type": "code",
   "execution_count": 11,
   "metadata": {},
   "outputs": [],
   "source": [
    "json_options = {\"timestampFormat\": \"yyyy-MM-dd'T'HH:mm:ss.sss'Z'\"}"
   ]
  },
  {
   "cell_type": "code",
   "execution_count": 58,
   "metadata": {},
   "outputs": [],
   "source": [
    "df0 = df \\\n",
    "    .select(from_json(col(\"value\").cast(\"string\"), schema, json_options).alias(\"departure\")) \\\n",
    "    .select(\"departure.*\") \\\n",
    "    .select('station', 'train', 'timestamp') \\\n",
    "    .withWatermark('timestamp', '1 minutes') \\\n",
    "    .dropDuplicates(['train', 'timestamp']) \\\n",
    "    .groupBy('station', window('timestamp', '60 minutes', '2 minutes')) \\\n",
    "    .agg(count('train').alias('nt'),  format_number((60. / count('train')), 2).alias('awt')) \\\n",
    "    .withColumn('oma', unix_timestamp(current_timestamp()) - 3720) \\\n",
    "    .withColumn('now', unix_timestamp(current_timestamp()) - 60) \\\n",
    "    .withColumn('wstart', unix_timestamp('window.start')) \\\n",
    "    .withColumn('wend', unix_timestamp('window.end')) \\\n",
    "    .where((col('oma') <= col('wstart')) & (col('wend') <= col('now'))) \\\n",
    "    .select('station', 'window', 'nt', 'awt') \\\n",
    "    .orderBy('station')"
   ]
  },
  {
   "cell_type": "code",
   "execution_count": 59,
   "metadata": {},
   "outputs": [
    {
     "name": "stdout",
     "output_type": "stream",
     "text": [
      "root\n",
      " |-- station: integer (nullable = true)\n",
      " |-- window: struct (nullable = true)\n",
      " |    |-- start: timestamp (nullable = true)\n",
      " |    |-- end: timestamp (nullable = true)\n",
      " |-- nt: long (nullable = false)\n",
      " |-- awt: string (nullable = true)\n",
      "\n"
     ]
    }
   ],
   "source": [
    "df0.printSchema()"
   ]
  },
  {
   "cell_type": "code",
   "execution_count": 60,
   "metadata": {},
   "outputs": [],
   "source": [
    "q0 = df0 \\\n",
    "    .writeStream \\\n",
    "    .trigger(processingTime='1 minutes') \\\n",
    "    .outputMode('complete') \\\n",
    "    .format('console') \\\n",
    "    .option('truncate', False) \\\n",
    "    .start()"
   ]
  },
  {
   "cell_type": "code",
   "execution_count": 62,
   "metadata": {},
   "outputs": [],
   "source": [
    "q1 = df0 \\\n",
    "    .writeStream \\\n",
    "    .queryName(\"averageWaiting\") \\\n",
    "    .trigger(processingTime='1 minutes') \\\n",
    "    .outputMode('complete') \\\n",
    "    .format('memory') \\\n",
    "    .start()"
   ]
  },
  {
   "cell_type": "code",
   "execution_count": 65,
   "metadata": {},
   "outputs": [
    {
     "name": "stdout",
     "output_type": "stream",
     "text": [
      "+--------+------------------------------------------+---+-----+\n",
      "|station |window                                    |nt |awt  |\n",
      "+--------+------------------------------------------+---+-----+\n",
      "|87334482|[2019-02-25 15:40:00, 2019-02-25 16:40:00]|12 |5.00 |\n",
      "|87366922|[2019-02-25 15:40:00, 2019-02-25 16:40:00]|1  |60.00|\n",
      "|87381111|[2019-02-25 15:40:00, 2019-02-25 16:40:00]|21 |2.86 |\n",
      "|87381129|[2019-02-25 15:40:00, 2019-02-25 16:40:00]|21 |2.86 |\n",
      "|87381137|[2019-02-25 15:40:00, 2019-02-25 16:40:00]|31 |1.94 |\n",
      "|87381459|[2019-02-25 15:40:00, 2019-02-25 16:40:00]|15 |4.00 |\n",
      "|87381657|[2019-02-25 15:40:00, 2019-02-25 16:40:00]|11 |5.45 |\n",
      "|87381905|[2019-02-25 15:40:00, 2019-02-25 16:40:00]|13 |4.62 |\n",
      "|87382002|[2019-02-25 15:40:00, 2019-02-25 16:40:00]|27 |2.22 |\n",
      "|87382200|[2019-02-25 15:40:00, 2019-02-25 16:40:00]|10 |6.00 |\n",
      "|87382218|[2019-02-25 15:40:00, 2019-02-25 16:40:00]|21 |2.86 |\n",
      "|87382259|[2019-02-25 15:40:00, 2019-02-25 16:40:00]|10 |6.00 |\n",
      "|87382267|[2019-02-25 15:40:00, 2019-02-25 16:40:00]|10 |6.00 |\n",
      "|87382333|[2019-02-25 15:40:00, 2019-02-25 16:40:00]|9  |6.67 |\n",
      "|87382341|[2019-02-25 15:40:00, 2019-02-25 16:40:00]|8  |7.50 |\n",
      "|87382358|[2019-02-25 15:40:00, 2019-02-25 16:40:00]|21 |2.86 |\n",
      "|87382366|[2019-02-25 15:40:00, 2019-02-25 16:40:00]|11 |5.45 |\n",
      "|87382374|[2019-02-25 15:40:00, 2019-02-25 16:40:00]|9  |6.67 |\n",
      "|87382382|[2019-02-25 15:40:00, 2019-02-25 16:40:00]|11 |5.45 |\n",
      "|87382432|[2019-02-25 15:40:00, 2019-02-25 16:40:00]|10 |6.00 |\n",
      "|87382440|[2019-02-25 15:40:00, 2019-02-25 16:40:00]|11 |5.45 |\n",
      "|87382457|[2019-02-25 15:40:00, 2019-02-25 16:40:00]|8  |7.50 |\n",
      "|87382465|[2019-02-25 15:40:00, 2019-02-25 16:40:00]|8  |7.50 |\n",
      "|87382473|[2019-02-25 15:40:00, 2019-02-25 16:40:00]|8  |7.50 |\n",
      "|87382481|[2019-02-25 15:40:00, 2019-02-25 16:40:00]|5  |12.00|\n",
      "|87382499|[2019-02-25 15:40:00, 2019-02-25 16:40:00]|8  |7.50 |\n",
      "|87382655|[2019-02-25 15:40:00, 2019-02-25 16:40:00]|1  |60.00|\n",
      "|87382812|[2019-02-25 15:40:00, 2019-02-25 16:40:00]|1  |60.00|\n",
      "|87382861|[2019-02-25 15:40:00, 2019-02-25 16:40:00]|3  |20.00|\n",
      "|87382879|[2019-02-25 15:40:00, 2019-02-25 16:40:00]|8  |7.50 |\n",
      "|87382887|[2019-02-25 15:40:00, 2019-02-25 16:40:00]|8  |7.50 |\n",
      "|87384008|[2019-02-25 15:40:00, 2019-02-25 16:40:00]|11 |5.45 |\n",
      "|87386003|[2019-02-25 15:40:00, 2019-02-25 16:40:00]|15 |4.00 |\n",
      "|87386300|[2019-02-25 15:40:00, 2019-02-25 16:40:00]|14 |4.29 |\n",
      "|87386318|[2019-02-25 15:40:00, 2019-02-25 16:40:00]|11 |5.45 |\n",
      "|87386409|[2019-02-25 15:40:00, 2019-02-25 16:40:00]|12 |5.00 |\n",
      "|87386417|[2019-02-25 15:40:00, 2019-02-25 16:40:00]|11 |5.45 |\n",
      "|87386425|[2019-02-25 15:40:00, 2019-02-25 16:40:00]|11 |5.45 |\n",
      "|87393876|[2019-02-25 15:40:00, 2019-02-25 16:40:00]|1  |60.00|\n",
      "+--------+------------------------------------------+---+-----+\n",
      "\n"
     ]
    }
   ],
   "source": [
    "spark.sql(\"SELECT * FROM averageWaiting\").show(100, False)"
   ]
  },
  {
   "cell_type": "code",
   "execution_count": 57,
   "metadata": {},
   "outputs": [],
   "source": [
    "q0.stop()\n",
    "q1.stop()"
   ]
  },
  {
   "cell_type": "code",
   "execution_count": 14,
   "metadata": {},
   "outputs": [
    {
     "data": {
      "text/plain": [
       "[<pyspark.sql.streaming.StreamingQuery at 0x7fb174138940>]"
      ]
     },
     "execution_count": 14,
     "metadata": {},
     "output_type": "execute_result"
    }
   ],
   "source": [
    "spark.streams.active"
   ]
  },
  {
   "cell_type": "code",
   "execution_count": 3,
   "metadata": {},
   "outputs": [],
   "source": [
    "spark.stop()"
   ]
  },
  {
   "cell_type": "raw",
   "metadata": {},
   "source": [
    "query.awaitTermination()"
   ]
  }
 ],
 "metadata": {
  "kernelspec": {
   "display_name": "Python 3",
   "language": "python",
   "name": "python3"
  },
  "language_info": {
   "codemirror_mode": {
    "name": "ipython",
    "version": 3
   },
   "file_extension": ".py",
   "mimetype": "text/x-python",
   "name": "python",
   "nbconvert_exporter": "python",
   "pygments_lexer": "ipython3",
   "version": "3.7.1"
  }
 },
 "nbformat": 4,
 "nbformat_minor": 2
}
