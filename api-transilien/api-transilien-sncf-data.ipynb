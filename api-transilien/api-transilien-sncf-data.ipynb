{
 "cells": [
  {
   "cell_type": "markdown",
   "metadata": {},
   "source": [
    "# SNCF - OPEN DATA - API TRANSILIEN - \"PROCHAINS DEPARTS\""
   ]
  },
  {
   "cell_type": "code",
   "execution_count": 1,
   "metadata": {},
   "outputs": [],
   "source": [
    "import json\n",
    "import requests"
   ]
  },
  {
   "cell_type": "markdown",
   "metadata": {},
   "source": [
    "## Téléchargement des données SNCF"
   ]
  },
  {
   "cell_type": "code",
   "execution_count": 2,
   "metadata": {},
   "outputs": [
    {
     "name": "stdout",
     "output_type": "stream",
     "text": [
      "Downloading SNCF Open Data...\n",
      "\t`--> file successfully downloaded as ./sncf-lignes-par-gares-idf.json\n"
     ]
    }
   ],
   "source": [
    "print(f\"Downloading SNCF Open Data...\")\n",
    "url = \"https://ressources.data.sncf.com/explore/dataset/sncf-lignes-par-gares-idf/download/?format=json&timezone=Europe/Berlin\"\n",
    "dest = \"sncf-lignes-par-gares-idf.json\"\n",
    "r = requests.get(url, allow_redirects=False)\n",
    "open(dest, 'wb+').write(r.content)\n",
    "print(f\"\\t`--> file successfully downloaded as ./{dest}\")"
   ]
  },
  {
   "cell_type": "markdown",
   "metadata": {},
   "source": [
    "Extraction des données liées à la ligne retenue (ligne L)"
   ]
  },
  {
   "cell_type": "code",
   "execution_count": 3,
   "metadata": {},
   "outputs": [],
   "source": [
    "with open('./sncf-lignes-par-gares-idf.json', 'r',  encoding='utf-8') as f:\n",
    "    sncf_lines_per_stations = json.load(f)"
   ]
  },
  {
   "cell_type": "code",
   "execution_count": 4,
   "metadata": {},
   "outputs": [],
   "source": [
    "line_l_stations_by_code = {}"
   ]
  },
  {
   "cell_type": "code",
   "execution_count": 5,
   "metadata": {},
   "outputs": [],
   "source": [
    "for entry in sncf_lines_per_stations:\n",
    "    is_line_l_station = entry['fields'].get('l',None) is not None\n",
    "    if is_line_l_station:\n",
    "        line_l_stations_by_code[int(entry['fields']['code_uic'])] = {\n",
    "            'label':entry['fields']['libelle_point_arret'],\n",
    "            'latitude':0.,\n",
    "            'longitude':0.\n",
    "        }"
   ]
  },
  {
   "cell_type": "markdown",
   "metadata": {},
   "source": [
    "Missing stations (bug in data file?)"
   ]
  },
  {
   "cell_type": "code",
   "execution_count": 6,
   "metadata": {},
   "outputs": [],
   "source": [
    "line_l_stations_by_code[87386318] = {'label':'NANTERRE UNIVERSITÉ', 'latitude':0., 'longitude':0.}"
   ]
  },
  {
   "cell_type": "markdown",
   "metadata": {},
   "source": [
    "Order by code... (just for fun)"
   ]
  },
  {
   "cell_type": "code",
   "execution_count": 7,
   "metadata": {},
   "outputs": [],
   "source": [
    "from collections import OrderedDict\n",
    "line_l_stations_by_code = OrderedDict(sorted(line_l_stations_by_code.items(), key=lambda x: x[0]))"
   ]
  },
  {
   "cell_type": "code",
   "execution_count": 8,
   "metadata": {},
   "outputs": [],
   "source": [
    "with open('./sncf-gares-et-arrets-transilien-ile-de-france.json', 'r',  encoding='utf-8') as f:\n",
    "    sncf_stations = json.load(f)"
   ]
  },
  {
   "cell_type": "code",
   "execution_count": 9,
   "metadata": {},
   "outputs": [],
   "source": [
    "for station in sncf_stations:\n",
    "    try:\n",
    "        code_uic = int(station['fields']['code_uic'])\n",
    "        line_l_stations_by_code[code_uic]['latitude'] = station['geometry']['coordinates'][1]\n",
    "        line_l_stations_by_code[code_uic]['longitude'] = station['geometry']['coordinates'][0]\n",
    "    except:\n",
    "        pass"
   ]
  },
  {
   "cell_type": "code",
   "execution_count": 10,
   "metadata": {},
   "outputs": [
    {
     "name": "stdout",
     "output_type": "stream",
     "text": [
      "saving (as json) data to : ./transilien_line_l_stations_by_code.json\n",
      "\t`--> done!\n"
     ]
    }
   ],
   "source": [
    "fullpath = f\"./transilien_line_l_stations_by_code.json\"\n",
    "print(f\"saving (as json) data to : {fullpath}\")         \n",
    "with open(fullpath, \"w+\", encoding='utf-8') as f:\n",
    "    json.dump(line_l_stations_by_code, f)\n",
    "print('\\t`--> done!')"
   ]
  },
  {
   "cell_type": "code",
   "execution_count": 11,
   "metadata": {},
   "outputs": [
    {
     "name": "stdout",
     "output_type": "stream",
     "text": [
      "saving (as txt) data to : ./transilien_line_l_stations_by_code.csv\n",
      "\t`--> done!\n"
     ]
    }
   ],
   "source": [
    "fullpath = f\"./transilien_line_l_stations_by_code.csv\"\n",
    "print(f\"saving (as txt) data to : {fullpath}\")   \n",
    "with open(fullpath, \"w+\", encoding='utf-8') as f:\n",
    "    f.write(f\"station,label,latitude,longitude\\n\")\n",
    "    for sc, sd in line_l_stations_by_code.items():\n",
    "        f.write(f\"{sc},{sd['label']},{sd['latitude']},{sd['longitude']}\\n\")\n",
    "print('\\t`--> done!')"
   ]
  },
  {
   "cell_type": "markdown",
   "metadata": {},
   "source": [
    "## Description de la ligne L\n",
    "\n",
    "- premier découpage\n",
    "- utilité à confimer\n",
    "- structure de données à revoir"
   ]
  },
  {
   "cell_type": "markdown",
   "metadata": {},
   "source": [
    "![GitHub Logo](./line-l.png)"
   ]
  },
  {
   "cell_type": "code",
   "execution_count": 12,
   "metadata": {},
   "outputs": [],
   "source": [
    "# COMMON PART OF [L1, L2, L4]\n",
    "l000 = [\n",
    "    'PARIS SAINT-LAZARE (GARE SAINT-LAZARE)',\n",
    "    'PONT CARDINET',\n",
    "    'CLICHY LEVALLOIS',\n",
    "    'ASNIERES SUR SEINE',\n",
    "    'BECON LES BRUYERES'\n",
    "]\n",
    "# COMMON PART OF [L1, L2]\n",
    "l100 = [*l000]\n",
    "l100.extend([\n",
    "    'COURBEVOIE',\n",
    "    'LA DEFENSE', \n",
    "    'PUTEAUX', \n",
    "    'SURESNES MONT VALERIEN', \n",
    "    \"LE VAL D'OR\", \n",
    "    'SAINT-CLOUD'\n",
    "])\n",
    "# LINE L1\n",
    "L1 = [*l100]\n",
    "L1.extend([\n",
    "    \"SEVRES VILLE D'AVRAY\", \n",
    "    'CHAVILLE RIVE DROITE', \n",
    "    'VIROFLAY RIVE DROITE', \n",
    "    'MONTREUIL', \n",
    "    'VERSAILLES RIVE DROITE'])\n",
    "# LINE L2 \n",
    "L2 = [*l100]\n",
    "L2.extend([\n",
    "    'GARCHES MARNES LA COQUETTE', \n",
    "    'VAUCRESSON', \n",
    "    'LA CELLE SAINT-CLOUD', \n",
    "    'BOUGIVAL', 'LOUVECIENNES', \n",
    "    'MARLY LE ROI', \n",
    "    \"L'ETANG LA VILLE\", \n",
    "    'SAINT-NOM LA BRETECHE FORET DE MARLY'\n",
    "])\n",
    "# LINE L3\n",
    "L3 = [\n",
    "    'NOISY LE ROI',\n",
    "    'SAINT-NOM LA BRETECHE FORET DE MARLY', \n",
    "    'MAREIL MARLY', \n",
    "    'SAINT-GERMAIN EN LAYE BEL AIR FOURQUEUX', \n",
    "    'SAINT-GERMAIN EN LAYE GRANDE CEINTURE'\n",
    "]\n",
    "# LINE L4 \n",
    "L4 = [*l000]\n",
    "L4.extend([\n",
    "    'LES VALLEES',\n",
    "    'LA GARENNE COLOMBES', \n",
    "    'NANTERRE UNIVERSITÉ', \n",
    "    'HOUILLES CARRIERES SUR SEINE', \n",
    "    'SARTROUVILLE', \n",
    "    'MAISONS LAFFITTE',\n",
    "    'ACHERES VILLE',\n",
    "    \"CONFLANS FIN D'OISE\",\n",
    "    'NEUVILLE UNIVERSITÉ',\n",
    "    'CERGY PREFECTURE',\n",
    "    'CERGY SAINT-CHRISTOPHE',\n",
    "    'CERGY LE HAUT'   \n",
    "])"
   ]
  },
  {
   "cell_type": "code",
   "execution_count": 13,
   "metadata": {},
   "outputs": [],
   "source": [
    "line_l = {'L1':L1, 'L2':L2, 'L3':L3, 'L4':L4}"
   ]
  },
  {
   "cell_type": "markdown",
   "metadata": {},
   "source": [
    "## Codes mission des trains de la ligne L\n",
    "La 1ère lettre du code désigne la destination du train. Généralement, il s’agit de la première lettre du terminus.\n",
    "\n",
    "- B : Bécon les Bruyères\n",
    "- D : Saint-Cloud\n",
    "- F : Maisons-Laffitte\n",
    "- N : Nanterre Université\n",
    "- P : Paris Saint-Lazare\n",
    "- R : Marly le Roi\n",
    "- S : Saint-Nom la Bretèche\n",
    "- U : Cergy le Haut\n",
    "- V : Versailles Rive Droite\n",
    "\n",
    "La 2ème lettre indique le type de desserte du train.\n",
    "\n",
    "- I : direct\n",
    "- A : semi direct\n",
    "- O : omnibus\n",
    "- E : autres dessertes\n",
    "- U : autres dessertes\n",
    "\n",
    "La 3ème lettre donne une précision sur les gares intermédiaires pour rendre la lettre précédente plus compréhensible.\n",
    "\n",
    "- A : Asnières sur Seine\n",
    "- B : Bécon les Bruyères\n",
    "- C : Clichy Levallois\n",
    "- L : La Défense ou Les Vallées\n",
    "- M : Nanterre Université\n",
    "- P : Pont Cardinet\n",
    "\n",
    "La 4ème lettre n’a pas de signification particulière, mais elle doit être prononçable."
   ]
  },
  {
   "cell_type": "code",
   "execution_count": 13,
   "metadata": {},
   "outputs": [],
   "source": [
    "line_l_missions = {\n",
    "    'B' : ('BECON LES BRUYERES', ['L1', 'L2', 'L3', 'L4']),\n",
    "    'D' : ('SAINT-CLOUD', ['L1', 'L2']),\n",
    "    'F' : ('MAISONS LAFFITTE', ['L4']),\n",
    "    'N' : ('NANTERRE UNIVERSITÉ', ['L4']),\n",
    "    'P' : ('PARIS SAINT-LAZARE (GARE SAINT-LAZARE)', ['L1', 'L2', 'L3', 'L4']),\n",
    "    'R' : ('MARLY LE ROI', ['L2', 'L3']),\n",
    "    'S' : ('SAINT-NOM LA BRETECHE FORET DE MARLY', ['L2', 'L3']),\n",
    "    'U' : ('CERGY LE HAUT', ['L4']),\n",
    "    'V' : ('VERSAILLES RIVE DROITE', ['L1'])\n",
    "}"
   ]
  },
  {
   "cell_type": "code",
   "execution_count": null,
   "metadata": {},
   "outputs": [],
   "source": []
  }
 ],
 "metadata": {
  "kernelspec": {
   "display_name": "Python 3",
   "language": "python",
   "name": "python3"
  },
  "language_info": {
   "codemirror_mode": {
    "name": "ipython",
    "version": 3
   },
   "file_extension": ".py",
   "mimetype": "text/x-python",
   "name": "python",
   "nbconvert_exporter": "python",
   "pygments_lexer": "ipython3",
   "version": "3.7.1"
  }
 },
 "nbformat": 4,
 "nbformat_minor": 2
}
