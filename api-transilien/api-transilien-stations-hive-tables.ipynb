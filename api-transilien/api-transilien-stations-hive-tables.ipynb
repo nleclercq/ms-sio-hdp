{
 "cells": [
  {
   "cell_type": "code",
   "execution_count": 1,
   "metadata": {},
   "outputs": [],
   "source": [
    "from pyspark.sql import SparkSession"
   ]
  },
  {
   "cell_type": "code",
   "execution_count": 2,
   "metadata": {},
   "outputs": [],
   "source": [
    "warehouse = \"hdfs://sandbox-hdp.hortonworks.com:8020/api-transilien\""
   ]
  },
  {
   "cell_type": "code",
   "execution_count": 3,
   "metadata": {},
   "outputs": [],
   "source": [
    "spark = SparkSession \\\n",
    "    .builder \\\n",
    "    .master(\"yarn\") \\\n",
    "    .appName(\"MS-SIO-HADOOP-PROJECT-SPARK-SQL-TMP\") \\\n",
    "    .config(\"spark.sql.warehouse.dir\", warehouse) \\\n",
    "    .config(\"hive.metastore.uris\", \"thrift://sandbox-hdp.hortonworks.com:9083\") \\\n",
    "    .enableHiveSupport() \\\n",
    "    .getOrCreate()"
   ]
  },
  {
   "cell_type": "code",
   "execution_count": 4,
   "metadata": {},
   "outputs": [],
   "source": [
    "df = spark \\\n",
    "    .read \\\n",
    "    .format(\"csv\") \\\n",
    "    .option(\"sep\", \",\") \\\n",
    "    .option(\"inferSchema\", \"true\") \\\n",
    "    .option(\"header\", \"true\") \\\n",
    "    .load(\"file:/root/ms-sio-hdp/api-transilien/transilien_line_l_stations_by_code.csv\")"
   ]
  },
  {
   "cell_type": "code",
   "execution_count": 5,
   "metadata": {},
   "outputs": [
    {
     "name": "stdout",
     "output_type": "stream",
     "text": [
      "+--------+---------------------------------------+-------------+-------------+\n",
      "|station |label                                  |latitude     |longitude    |\n",
      "+--------+---------------------------------------+-------------+-------------+\n",
      "|87334482|NEUVILLE UNIVERSITE                    |49.0141135729|2.07888615344|\n",
      "|87366922|SAINT-GERMAIN EN LAYE BEL AIR FOURQUEUX|48.8950238658|2.07194236158|\n",
      "|87381111|PONT CARDINET                          |48.8875699026|2.31401853193|\n",
      "|87381129|CLICHY LEVALLOIS                       |48.8969214742|2.29837992753|\n",
      "|87381137|ASNIERES SUR SEINE                     |48.9057768994|2.28332241877|\n",
      "|87381459|CONFLANS FIN D'OISE                    |48.9891848652|2.07455911528|\n",
      "|87381657|ACHERES VILLE                          |48.9700946335|2.07739969014|\n",
      "|87381905|CERGY PREFECTURE                       |49.0365179881|2.07971720177|\n",
      "|87382002|BECON LES BRUYERES                     |48.9055805862|2.26857173893|\n",
      "|87382200|COURBEVOIE                             |48.8982514361|2.24797129852|\n",
      "|87382218|LA DEFENSE                             |48.8934895769|2.23827508094|\n",
      "|87382259|GARCHES MARNES LA COQUETTE             |48.8383162045|2.1868735901 |\n",
      "|87382267|VAUCRESSON                             |48.836784962 |2.15255479028|\n",
      "|87382333|CHAVILLE RIVE DROITE                   |48.812136312 |2.18783398094|\n",
      "|87382341|SEVRES VILLE D'AVRAY                   |48.8274217325|2.20055846234|\n",
      "|87382358|SAINT-CLOUD                            |48.8443540357|2.21690859829|\n",
      "|87382366|LE VAL D'OR                            |48.8569094152|2.21677050352|\n",
      "|87382374|SURESNES MONT VALERIEN                 |48.8717069629|2.22110944905|\n",
      "|87382382|PUTEAUX                                |48.8834917758|2.2335382863 |\n",
      "|87382432|LA CELLE SAINT-CLOUD                   |48.8425404524|2.1379646985 |\n",
      "|87382440|BOUGIVAL                               |48.8542235026|2.13224046835|\n",
      "|87382457|LOUVECIENNES                           |48.8610558392|2.12308717495|\n",
      "|87382465|MARLY LE ROI                           |48.8713498332|2.09662765703|\n",
      "|87382473|L'ETANG LA VILLE                       |48.8681535535|2.07679348122|\n",
      "|87382481|SAINT-NOM LA BRETECHE FORET DE MARLY   |48.8678965333|2.05095165696|\n",
      "|87382499|CERGY SAINT-CHRISTOPHE                 |49.0497023367|2.03445484969|\n",
      "|87382655|CERGY LE HAUT                          |49.0485388268|2.01227395158|\n",
      "|87382804|SAINT-GERMAIN EN LAYE GRANDE CEINTURE  |48.9031868487|2.07312748284|\n",
      "|87382812|MAREIL MARLY                           |48.8814243962|2.07932950165|\n",
      "|87382861|VERSAILLES RIVE DROITE                 |48.8096143342|2.1354511829 |\n",
      "|87382879|MONTREUIL                              |48.8067100466|2.15124665346|\n",
      "|87382887|VIROFLAY RIVE DROITE                   |48.8056300572|2.16835422409|\n",
      "|87384008|PARIS SAINT-LAZARE (GARE SAINT-LAZARE) |48.875357836 |2.32473327749|\n",
      "|87386003|LA GARENNE COLOMBES                    |48.9094340652|2.23992160213|\n",
      "|87386300|LES VALLEES                            |48.9134465868|2.25785779479|\n",
      "|87386318|NANTERRE UNIVERSITÉ                    |48.9015475909|2.21516720292|\n",
      "|87386409|HOUILLES CARRIERES SUR SEINE           |48.9208344027|2.18450665388|\n",
      "|87386417|SARTROUVILLE                           |48.9377726159|2.15721464809|\n",
      "|87386425|MAISONS LAFFITTE                       |48.9459130297|2.14464783894|\n",
      "|87393876|NOISY LE ROI                           |48.8415623011|2.06203082551|\n",
      "+--------+---------------------------------------+-------------+-------------+\n",
      "\n"
     ]
    }
   ],
   "source": [
    "df.show(200,False)"
   ]
  },
  {
   "cell_type": "code",
   "execution_count": 6,
   "metadata": {},
   "outputs": [],
   "source": [
    "db_location = \"hdfs://sandbox-hdp.hortonworks.com:8020/api-transilien\""
   ]
  },
  {
   "cell_type": "code",
   "execution_count": 7,
   "metadata": {},
   "outputs": [
    {
     "data": {
      "text/plain": [
       "DataFrame[]"
      ]
     },
     "execution_count": 7,
     "metadata": {},
     "output_type": "execute_result"
    }
   ],
   "source": [
    "spark.sql(f'create database if not exists transilien location \"{db_location}\"')"
   ]
  },
  {
   "cell_type": "code",
   "execution_count": 8,
   "metadata": {},
   "outputs": [
    {
     "data": {
      "text/plain": [
       "[Database(name='default', description='Default Hive database', locationUri='hdfs://sandbox-hdp.hortonworks.com:8020/apps/hive/warehouse'),\n",
       " Database(name='foodmart', description='', locationUri='hdfs://sandbox-hdp.hortonworks.com:8020/apps/hive/warehouse/foodmart.db'),\n",
       " Database(name='transilien', description='', locationUri='hdfs://sandbox-hdp.hortonworks.com:8020/api-transilien')]"
      ]
     },
     "execution_count": 8,
     "metadata": {},
     "output_type": "execute_result"
    }
   ],
   "source": [
    "spark.catalog.listDatabases()"
   ]
  },
  {
   "cell_type": "code",
   "execution_count": 9,
   "metadata": {},
   "outputs": [
    {
     "data": {
      "text/plain": [
       "DataFrame[]"
      ]
     },
     "execution_count": 9,
     "metadata": {},
     "output_type": "execute_result"
    }
   ],
   "source": [
    "spark.sql('use transilien')"
   ]
  },
  {
   "cell_type": "code",
   "execution_count": 10,
   "metadata": {},
   "outputs": [],
   "source": [
    "df.write.mode(\"overwrite\").saveAsTable(\"sncf_stations\")"
   ]
  },
  {
   "cell_type": "code",
   "execution_count": 11,
   "metadata": {},
   "outputs": [
    {
     "data": {
      "text/plain": [
       "[Table(name='averagewaitingtime', database='transilien', description=None, tableType='MANAGED', isTemporary=False),\n",
       " Table(name='sncf_stations', database='transilien', description=None, tableType='MANAGED', isTemporary=False)]"
      ]
     },
     "execution_count": 11,
     "metadata": {},
     "output_type": "execute_result"
    }
   ],
   "source": [
    "spark.catalog.listTables()"
   ]
  },
  {
   "cell_type": "code",
   "execution_count": 12,
   "metadata": {},
   "outputs": [
    {
     "name": "stdout",
     "output_type": "stream",
     "text": [
      "+--------+---------------------------------------+-------------+-------------+\n",
      "|station |label                                  |latitude     |longitude    |\n",
      "+--------+---------------------------------------+-------------+-------------+\n",
      "|87334482|NEUVILLE UNIVERSITE                    |49.0141135729|2.07888615344|\n",
      "|87366922|SAINT-GERMAIN EN LAYE BEL AIR FOURQUEUX|48.8950238658|2.07194236158|\n",
      "|87381111|PONT CARDINET                          |48.8875699026|2.31401853193|\n",
      "|87381129|CLICHY LEVALLOIS                       |48.8969214742|2.29837992753|\n",
      "|87381137|ASNIERES SUR SEINE                     |48.9057768994|2.28332241877|\n",
      "|87381459|CONFLANS FIN D'OISE                    |48.9891848652|2.07455911528|\n",
      "|87381657|ACHERES VILLE                          |48.9700946335|2.07739969014|\n",
      "|87381905|CERGY PREFECTURE                       |49.0365179881|2.07971720177|\n",
      "|87382002|BECON LES BRUYERES                     |48.9055805862|2.26857173893|\n",
      "|87382200|COURBEVOIE                             |48.8982514361|2.24797129852|\n",
      "|87382218|LA DEFENSE                             |48.8934895769|2.23827508094|\n",
      "|87382259|GARCHES MARNES LA COQUETTE             |48.8383162045|2.1868735901 |\n",
      "|87382267|VAUCRESSON                             |48.836784962 |2.15255479028|\n",
      "|87382333|CHAVILLE RIVE DROITE                   |48.812136312 |2.18783398094|\n",
      "|87382341|SEVRES VILLE D'AVRAY                   |48.8274217325|2.20055846234|\n",
      "|87382358|SAINT-CLOUD                            |48.8443540357|2.21690859829|\n",
      "|87382366|LE VAL D'OR                            |48.8569094152|2.21677050352|\n",
      "|87382374|SURESNES MONT VALERIEN                 |48.8717069629|2.22110944905|\n",
      "|87382382|PUTEAUX                                |48.8834917758|2.2335382863 |\n",
      "|87382432|LA CELLE SAINT-CLOUD                   |48.8425404524|2.1379646985 |\n",
      "|87382440|BOUGIVAL                               |48.8542235026|2.13224046835|\n",
      "|87382457|LOUVECIENNES                           |48.8610558392|2.12308717495|\n",
      "|87382465|MARLY LE ROI                           |48.8713498332|2.09662765703|\n",
      "|87382473|L'ETANG LA VILLE                       |48.8681535535|2.07679348122|\n",
      "|87382481|SAINT-NOM LA BRETECHE FORET DE MARLY   |48.8678965333|2.05095165696|\n",
      "|87382499|CERGY SAINT-CHRISTOPHE                 |49.0497023367|2.03445484969|\n",
      "|87382655|CERGY LE HAUT                          |49.0485388268|2.01227395158|\n",
      "|87382804|SAINT-GERMAIN EN LAYE GRANDE CEINTURE  |48.9031868487|2.07312748284|\n",
      "|87382812|MAREIL MARLY                           |48.8814243962|2.07932950165|\n",
      "|87382861|VERSAILLES RIVE DROITE                 |48.8096143342|2.1354511829 |\n",
      "|87382879|MONTREUIL                              |48.8067100466|2.15124665346|\n",
      "|87382887|VIROFLAY RIVE DROITE                   |48.8056300572|2.16835422409|\n",
      "|87384008|PARIS SAINT-LAZARE (GARE SAINT-LAZARE) |48.875357836 |2.32473327749|\n",
      "|87386003|LA GARENNE COLOMBES                    |48.9094340652|2.23992160213|\n",
      "|87386300|LES VALLEES                            |48.9134465868|2.25785779479|\n",
      "|87386318|NANTERRE UNIVERSITÉ                    |48.9015475909|2.21516720292|\n",
      "|87386409|HOUILLES CARRIERES SUR SEINE           |48.9208344027|2.18450665388|\n",
      "|87386417|SARTROUVILLE                           |48.9377726159|2.15721464809|\n",
      "|87386425|MAISONS LAFFITTE                       |48.9459130297|2.14464783894|\n",
      "|87393876|NOISY LE ROI                           |48.8415623011|2.06203082551|\n",
      "+--------+---------------------------------------+-------------+-------------+\n",
      "\n"
     ]
    }
   ],
   "source": [
    "spark.sql(\"SELECT * FROM sncf_stations\").show(100, False)"
   ]
  },
  {
   "cell_type": "code",
   "execution_count": 14,
   "metadata": {},
   "outputs": [
    {
     "data": {
      "text/plain": [
       "40"
      ]
     },
     "execution_count": 14,
     "metadata": {},
     "output_type": "execute_result"
    }
   ],
   "source": [
    "spark.sql(\"SELECT * FROM sncf_stations\").count()"
   ]
  },
  {
   "cell_type": "code",
   "execution_count": 13,
   "metadata": {},
   "outputs": [
    {
     "name": "stdout",
     "output_type": "stream",
     "text": [
      "+--------+--------------------+\n",
      "| station|               label|\n",
      "+--------+--------------------+\n",
      "|87366922|SAINT-GERMAIN EN ...|\n",
      "|87381111|       PONT CARDINET|\n",
      "|87381129|    CLICHY LEVALLOIS|\n",
      "|87381137|  ASNIERES SUR SEINE|\n",
      "|87381459| CONFLANS FIN D'OISE|\n",
      "|87381657|       ACHERES VILLE|\n",
      "|87382002|  BECON LES BRUYERES|\n",
      "|87382200|          COURBEVOIE|\n",
      "|87382218|          LA DEFENSE|\n",
      "|87382259|GARCHES MARNES LA...|\n",
      "|87382267|          VAUCRESSON|\n",
      "|87382333|CHAVILLE RIVE DROITE|\n",
      "|87382341|SEVRES VILLE D'AVRAY|\n",
      "|87382358|         SAINT-CLOUD|\n",
      "|87382366|         LE VAL D'OR|\n",
      "|87382374|SURESNES MONT VAL...|\n",
      "|87382382|             PUTEAUX|\n",
      "|87382432|LA CELLE SAINT-CLOUD|\n",
      "|87382440|            BOUGIVAL|\n",
      "|87382457|        LOUVECIENNES|\n",
      "+--------+--------------------+\n",
      "only showing top 20 rows\n",
      "\n"
     ]
    }
   ],
   "source": [
    "spark.sql(\"SELECT station, label FROM sncf_stations WHERE latitude < 49 ORDER BY station\").show()"
   ]
  },
  {
   "cell_type": "code",
   "execution_count": null,
   "metadata": {},
   "outputs": [],
   "source": [
    "spark.stop()"
   ]
  },
  {
   "cell_type": "raw",
   "metadata": {},
   "source": [
    "#backup-> spark.sql(\"CREATE DATABASE transilien\")\n",
    "#backup-> spark.sql(\"DROP TABLE sncf_stations\")\n",
    "#backup-> spark.sql(\"DROP DATABASE transilien\")\n",
    "#backup-> spark.sql(\"USE transilien\")"
   ]
  }
 ],
 "metadata": {
  "kernelspec": {
   "display_name": "Python 3",
   "language": "python",
   "name": "python3"
  },
  "language_info": {
   "codemirror_mode": {
    "name": "ipython",
    "version": 3
   },
   "file_extension": ".py",
   "mimetype": "text/x-python",
   "name": "python",
   "nbconvert_exporter": "python",
   "pygments_lexer": "ipython3",
   "version": "3.7.1"
  }
 },
 "nbformat": 4,
 "nbformat_minor": 2
}
